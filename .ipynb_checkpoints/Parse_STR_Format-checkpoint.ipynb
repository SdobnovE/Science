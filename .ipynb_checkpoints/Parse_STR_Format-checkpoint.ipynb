{
 "cells": [
  {
   "cell_type": "code",
   "execution_count": 1,
   "metadata": {},
   "outputs": [],
   "source": [
    "import numpy as np\n",
    "from functools import reduce\n",
    "from sklearn.model_selection import train_test_split\n",
    "from sklearn.linear_model import LinearRegression"
   ]
  },
  {
   "cell_type": "code",
   "execution_count": 2,
   "metadata": {},
   "outputs": [],
   "source": [
    "def make_chains(mat, names, k, key):\n",
    "    '''Передаём key, чтобы словарь поиска содеражал такие ключи'''\n",
    "    def dfs(que, mat, v, k_now, k_max, chainsDict, names):\n",
    "        if k_now == k_max:\n",
    "            name_in_num = list(que)\n",
    "            name_in_num.sort()\n",
    "            name_in_num = list(map(lambda i: names[i], name_in_num))\n",
    "            kk = reduce(lambda i, j: i + j, name_in_num)\n",
    "            chainsDict.setdefault(kk, 0)\n",
    "            chainsDict[kk] += 1\n",
    "            return\n",
    "        \n",
    "        for i in range(0, mat.shape[0]):\n",
    "            if mat[v, i] == 1 and not i in que:\n",
    "                que.append(i)\n",
    "                dfs(que, mat, i, k_now + 1, k_max, chainsDict, names)\n",
    "                del(que[k_now])\n",
    "    \n",
    "    \n",
    "            \n",
    "    chainsDict = dict.fromkeys(key, 0)\n",
    "    \n",
    "    for i in range(mat.shape[0]):#Запускаем обход в глубину k из каждой вершины\n",
    "        que = []\n",
    "        que.append(i)\n",
    "        \n",
    "        dfs(que, mat, i, 1, k, chainsDict, names)\n",
    "        del(que[0])\n",
    "        \n",
    "        \n",
    "    for i in chainsDict.keys(): #Каждую цепочку посчитали два раза\n",
    "        chainsDict[i] //= 2\n",
    "    return chainsDict\n",
    "        "
   ]
  },
  {
   "cell_type": "code",
   "execution_count": 3,
   "metadata": {},
   "outputs": [],
   "source": [
    "def getAllKChainsNameInFile(filename, k): #k-размер цепочек\n",
    "    all_chains_names = []\n",
    "    ctr = 0\n",
    "    with  open(filename, \"r\") as f:\n",
    "        \n",
    "        \n",
    "        for i in f:\n",
    "            ctr += 1\n",
    "            mol_atoms = []\n",
    "            mol_name = i.split()[1]\n",
    "            num_elems = int(i.split()[0])\n",
    "            \n",
    "\n",
    "            matrix = np.zeros((num_elems, num_elems))\n",
    "            for i in range(num_elems):\n",
    "                \n",
    "                line = next(f) #Берём i линию в молекуле\n",
    "                \n",
    "                mol_atoms.append(line.split()[0]) #По первому индексу хранятся названия, которые пихаем в лист\n",
    "\n",
    "                it = 3 #С третьего элемента в строке начинаются связи\n",
    "                while line.split()[it] != \"00\":\n",
    "                    matrix[i, int(line.split()[it][:-1]) - 1] = 1 #int(line.split()[it][-1]) Если захотим тип связи\n",
    "                    matrix[int(line.split()[it][:-1]) - 1, i] = 1\n",
    "                    it += 1\n",
    "            res = make_chains(matrix, mol_atoms, k, [])\n",
    "            all_chains_names += res.keys()\n",
    "        \n",
    "    returnList = list(np.unique(all_chains_names))\n",
    "    returnList.sort()\n",
    "    return returnList, ctr"
   ]
  },
  {
   "cell_type": "code",
   "execution_count": 4,
   "metadata": {},
   "outputs": [],
   "source": [
    "def getMatrix(filename, k, keys, high):\n",
    "    res_matr = np.zeros((high, len(keys)))\n",
    "    dic = dict.fromkeys(keys, 0)\n",
    "    cnt = 0\n",
    "    with open(filename, \"r\") as f:\n",
    "        for i in f:\n",
    "            \n",
    "            mol_atoms = []\n",
    "            num_elems = int(i.split()[0])\n",
    "            matrix = np.zeros((num_elems, num_elems))\n",
    "            for i in range(num_elems):\n",
    "                line = next(f) #Берём i линию в молекуле\n",
    "                mol_atoms.append(line.split()[0]) #По первому индексу хранятся названия, которые пихаем в лист\n",
    "\n",
    "                it = 3 #С третьего элемента в строке начинаются связи\n",
    "                while line.split()[it] != \"00\":\n",
    "                    matrix[i, int(line.split()[it][:-1]) - 1] = 1 #int(line.split()[it][-1]) Если захотим тип связи\n",
    "                    matrix[int(line.split()[it][:-1]) - 1, i] = 1\n",
    "                    it += 1\n",
    "            res = make_chains(matrix, mol_atoms, k, dic.keys())\n",
    "            \n",
    "            res_matr[cnt,:] = list(res.values())\n",
    "            cnt += 1\n",
    "            \n",
    "    return res_matr"
   ]
  },
  {
   "cell_type": "code",
   "execution_count": 5,
   "metadata": {},
   "outputs": [],
   "source": [
    "y = []\n",
    "file_y = \"ALKAN.SET\""
   ]
  },
  {
   "cell_type": "code",
   "execution_count": 6,
   "metadata": {},
   "outputs": [],
   "source": [
    "with open(file_y, \"r\") as f:\n",
    "    for i in f:\n",
    "        splitString = i.split()\n",
    "        if len(splitString) > 0 and splitString[0] == 'A1':\n",
    "            y.append(float(splitString[1]))"
   ]
  },
  {
   "cell_type": "code",
   "execution_count": 7,
   "metadata": {},
   "outputs": [
    {
     "data": {
      "text/plain": [
       "74"
      ]
     },
     "execution_count": 7,
     "metadata": {},
     "output_type": "execute_result"
    }
   ],
   "source": [
    "filename = \"ALKAN.STR\"\n",
    "len(y)"
   ]
  },
  {
   "cell_type": "code",
   "execution_count": 8,
   "metadata": {},
   "outputs": [],
   "source": [
    "chainLen = 2"
   ]
  },
  {
   "cell_type": "code",
   "execution_count": 9,
   "metadata": {},
   "outputs": [],
   "source": [
    "names, numMolec = getAllKChainsNameInFile(filename, chainLen)"
   ]
  },
  {
   "cell_type": "code",
   "execution_count": 10,
   "metadata": {
    "scrolled": true
   },
   "outputs": [],
   "source": [
    "Matr = getMatrix(filename, chainLen, names, numMolec)"
   ]
  },
  {
   "cell_type": "code",
   "execution_count": 11,
   "metadata": {},
   "outputs": [],
   "source": [
    "# for i in range(Matr.shape[0]):\n",
    "#     for j in range(Matr.shape[1]):\n",
    "#         print(Matr[i,j], end=\" \")\n",
    "#     print()\n",
    "#     print()"
   ]
  },
  {
   "cell_type": "code",
   "execution_count": 12,
   "metadata": {},
   "outputs": [],
   "source": [
    "\n",
    "\n",
    "X_train, X_test, y_train, y_test = train_test_split(\n",
    "    Matr, y, test_size=0.4)"
   ]
  },
  {
   "cell_type": "code",
   "execution_count": 13,
   "metadata": {},
   "outputs": [],
   "source": [
    "\n",
    "clf = LinearRegression(normalize=True)"
   ]
  },
  {
   "cell_type": "code",
   "execution_count": 14,
   "metadata": {},
   "outputs": [
    {
     "data": {
      "text/plain": [
       "LinearRegression(copy_X=True, fit_intercept=True, n_jobs=None, normalize=True)"
      ]
     },
     "execution_count": 14,
     "metadata": {},
     "output_type": "execute_result"
    }
   ],
   "source": [
    "clf.fit(X_train, y_train)\n"
   ]
  },
  {
   "cell_type": "code",
   "execution_count": 15,
   "metadata": {},
   "outputs": [
    {
     "data": {
      "text/plain": [
       "0.9906491754547998"
      ]
     },
     "execution_count": 15,
     "metadata": {},
     "output_type": "execute_result"
    }
   ],
   "source": [
    "clf.score(X_test, y_test)"
   ]
  },
  {
   "cell_type": "code",
   "execution_count": 16,
   "metadata": {},
   "outputs": [
    {
     "data": {
      "text/plain": [
       "[(141.4056637801869, 142.0),\n",
       " (140.21271669459713, 140.46),\n",
       " (92.53559794594183, 93.475),\n",
       " (147.90399805495287, 143.0),\n",
       " (143.9378851716736, 142.48),\n",
       " (62.29246577613388, 63.282),\n",
       " (-27.4721802252525, -42.07),\n",
       " (115.89635756454884, 115.65),\n",
       " (136.65096769808912, 133.5),\n",
       " (145.30286439772726, 146.168),\n",
       " (131.62998684225084, 133.016),\n",
       " (95.13673160316743, 98.427),\n",
       " (-19.004200890532985, -11.73),\n",
       " (61.25973066173479, 60.271),\n",
       " (110.08679350989202, 109.841),\n",
       " (116.92909267894792, 118.259),\n",
       " (134.12215430353103, 133.8),\n",
       " (147.62667782168813, 137.3),\n",
       " (107.12405637167932, 106.47),\n",
       " (132.56155120771797, 131.34),\n",
       " (140.09067147109005, 138.0),\n",
       " (145.03953255181165, 140.6),\n",
       " (141.2004633220389, 140.5),\n",
       " (140.37487779158073, 136.0),\n",
       " (139.81335123782532, 137.68),\n",
       " (133.26726645178553, 136.73),\n",
       " (83.68953624767992, 79.197),\n",
       " (112.7010061946793, 117.725),\n",
       " (139.97691747358448, 143.26),\n",
       " (64.89359943335951, 68.74)]"
      ]
     },
     "execution_count": 16,
     "metadata": {},
     "output_type": "execute_result"
    }
   ],
   "source": [
    "list(zip(clf.predict(X_test), y_test))"
   ]
  },
  {
   "cell_type": "code",
   "execution_count": 17,
   "metadata": {},
   "outputs": [],
   "source": [
    "from sklearn.neighbors import KNeighborsRegressor"
   ]
  },
  {
   "cell_type": "code",
   "execution_count": 18,
   "metadata": {},
   "outputs": [],
   "source": [
    "clf = KNeighborsRegressor(n_neighbors=3, weights=\"distance\")"
   ]
  },
  {
   "cell_type": "code",
   "execution_count": 19,
   "metadata": {},
   "outputs": [
    {
     "data": {
      "text/plain": [
       "KNeighborsRegressor(algorithm='auto', leaf_size=30, metric='minkowski',\n",
       "          metric_params=None, n_jobs=None, n_neighbors=3, p=2,\n",
       "          weights='distance')"
      ]
     },
     "execution_count": 19,
     "metadata": {},
     "output_type": "execute_result"
    }
   ],
   "source": [
    "clf.fit(X_train,y_train)"
   ]
  },
  {
   "cell_type": "code",
   "execution_count": 20,
   "metadata": {},
   "outputs": [
    {
     "data": {
      "text/plain": [
       "0.7563961489513105"
      ]
     },
     "execution_count": 20,
     "metadata": {},
     "output_type": "execute_result"
    }
   ],
   "source": [
    "clf.score(X_test, y_test)"
   ]
  },
  {
   "cell_type": "code",
   "execution_count": null,
   "metadata": {},
   "outputs": [],
   "source": []
  },
  {
   "cell_type": "code",
   "execution_count": null,
   "metadata": {},
   "outputs": [],
   "source": []
  },
  {
   "cell_type": "code",
   "execution_count": null,
   "metadata": {},
   "outputs": [],
   "source": []
  },
  {
   "cell_type": "code",
   "execution_count": null,
   "metadata": {},
   "outputs": [],
   "source": [
    "def distanceMatrix(Matr):\n",
    "    \"\"\"Получает матрицу смежности Matr\n",
    "        и возвращает матрицу расстояний\n",
    "        в рёбрах\"\"\"\n",
    "    ln = Matr.shape[0]\n",
    "    res = np.zeros((ln, ln))\n",
    "    \n",
    "    for i in range(ln):#Запускаем цикл по всем вершинам\n",
    "        #BFS в каждой вершине\n",
    "        que = []#Очередь вершин\n",
    "        dist = []#Очередь расстояний\n",
    "        que.append(i)\n",
    "        dist.append(0)\n",
    "        while len(que) != 0:\n",
    "            for j in range(ln):#Бежим по строке матрицы смежности\n",
    "                if Matr[i, j] != 0 and res[i, j] != 0:#Если есть ребро + не записывали ещё в матрицу\n",
    "                    que.append(j)\n",
    "                    dist.append(dist[0] + 1)\n",
    "            if res[i, j] != 0:\n",
    "                res[i,j] = dist[0]\n",
    "            del que[0]\n",
    "            del dist[0]\n",
    "                    \n",
    "                        \n",
    "    \n",
    "    "
   ]
  }
 ],
 "metadata": {
  "kernelspec": {
   "display_name": "Python 3",
   "language": "python",
   "name": "python3"
  },
  "language_info": {
   "codemirror_mode": {
    "name": "ipython",
    "version": 3
   },
   "file_extension": ".py",
   "mimetype": "text/x-python",
   "name": "python",
   "nbconvert_exporter": "python",
   "pygments_lexer": "ipython3",
   "version": "3.7.3"
  }
 },
 "nbformat": 4,
 "nbformat_minor": 2
}

{
 "cells": [
  {
   "cell_type": "code",
   "execution_count": 133,
   "metadata": {},
   "outputs": [],
   "source": [
    "import numpy as np\n",
    "from functools import reduce\n",
    "from sklearn.model_selection import train_test_split\n",
    "from sklearn.linear_model import LinearRegression"
   ]
  },
  {
   "cell_type": "code",
   "execution_count": 134,
   "metadata": {},
   "outputs": [],
   "source": [
    "def make_chains(mat, names, k, key):\n",
    "    '''Передаём key, чтобы словарь поиска содеражал такие ключи'''\n",
    "    def dfs(que, mat, v, k_now, k_max, chainsDict, names):\n",
    "        if k_now == k_max:\n",
    "            name_in_num = list(que)\n",
    "            name_in_num.sort()\n",
    "            name_in_num = list(map(lambda i: names[i], name_in_num))\n",
    "            kk = reduce(lambda i, j: i + j, name_in_num)\n",
    "            chainsDict.setdefault(kk, 0)\n",
    "            chainsDict[kk] += 1\n",
    "            return\n",
    "        \n",
    "        for i in range(0, mat.shape[0]):\n",
    "            if mat[v, i] == 1 and not i in que:\n",
    "                que.append(i)\n",
    "                dfs(que, mat, i, k_now + 1, k_max, chainsDict, names)\n",
    "                del(que[k_now])\n",
    "    \n",
    "    \n",
    "            \n",
    "    chainsDict = dict.fromkeys(key, 0)\n",
    "    \n",
    "    for i in range(mat.shape[0]):#Запускаем обход в глубину k из каждой вершины\n",
    "        que = []\n",
    "        que.append(i)\n",
    "        \n",
    "        dfs(que, mat, i, 1, k, chainsDict, names)\n",
    "        del(que[0])\n",
    "        \n",
    "        \n",
    "    for i in chainsDict.keys(): #Каждую цепочку посчитали два раза\n",
    "        chainsDict[i] //= 2\n",
    "    return chainsDict\n",
    "        "
   ]
  },
  {
   "cell_type": "code",
   "execution_count": 135,
   "metadata": {},
   "outputs": [],
   "source": [
    "def getAllKChainsNameInFile(filename, k): #k-размер цепочек\n",
    "    all_chains_names = []\n",
    "    ctr = 0\n",
    "    with  open(filename, \"r\") as f:\n",
    "        \n",
    "        \n",
    "        for i in f:\n",
    "            ctr += 1\n",
    "            mol_atoms = []\n",
    "            mol_name = i.split()[1]\n",
    "            num_elems = int(i.split()[0])\n",
    "            \n",
    "\n",
    "            matrix = np.zeros((num_elems, num_elems))\n",
    "            for i in range(num_elems):\n",
    "                \n",
    "                line = next(f) #Берём i линию в молекуле\n",
    "                \n",
    "                mol_atoms.append(line.split()[0]) #По первому индексу хранятся названия, которые пихаем в лист\n",
    "\n",
    "                it = 3 #С третьего элемента в строке начинаются связи\n",
    "                while line.split()[it] != \"00\":\n",
    "                    matrix[i, int(line.split()[it][:-1]) - 1] = 1 #int(line.split()[it][-1]) Если захотим тип связи\n",
    "                    matrix[int(line.split()[it][:-1]) - 1, i] = 1\n",
    "                    it += 1\n",
    "            res = make_chains(matrix, mol_atoms, k, [])\n",
    "            all_chains_names += res.keys()\n",
    "#             print(matrix, \"\\n\", res)\n",
    "#             print()\n",
    "#             print()\n",
    "        \n",
    "    returnList = list(np.unique(all_chains_names))\n",
    "    returnList.sort()\n",
    "    return returnList, ctr"
   ]
  },
  {
   "cell_type": "code",
   "execution_count": 136,
   "metadata": {},
   "outputs": [],
   "source": [
    "def getMatrix(filename, k, keys, high):\n",
    "    res_matr = np.zeros((high, len(keys)))\n",
    "    dic = dict.fromkeys(keys, 0)\n",
    "    cnt = 0\n",
    "    with open(filename, \"r\") as f:\n",
    "        for i in f:\n",
    "            \n",
    "            mol_atoms = []\n",
    "            num_elems = int(i.split()[0])\n",
    "            matrix = np.zeros((num_elems, num_elems))\n",
    "            for i in range(num_elems):\n",
    "                line = next(f) #Берём i линию в молекуле\n",
    "                mol_atoms.append(line.split()[0]) #По первому индексу хранятся названия, которые пихаем в лист\n",
    "\n",
    "                it = 3 #С третьего элемента в строке начинаются связи\n",
    "                while line.split()[it] != \"00\":\n",
    "                    matrix[i, int(line.split()[it][:-1]) - 1] = 1 #int(line.split()[it][-1]) Если захотим тип связи\n",
    "                    matrix[int(line.split()[it][:-1]) - 1, i] = 1\n",
    "                    it += 1\n",
    "            res = make_chains(matrix, mol_atoms, k, dic.keys())\n",
    "            \n",
    "            res_matr[cnt,:] = list(res.values())\n",
    "            cnt += 1\n",
    "            \n",
    "    return res_matr"
   ]
  },
  {
   "cell_type": "code",
   "execution_count": 137,
   "metadata": {},
   "outputs": [],
   "source": [
    "y = []\n",
    "file_y = \"ALKAN.SET\""
   ]
  },
  {
   "cell_type": "code",
   "execution_count": 138,
   "metadata": {},
   "outputs": [],
   "source": [
    "with open(file_y, \"r\") as f:\n",
    "    for i in f:\n",
    "        splitString = i.split()\n",
    "        if len(splitString) > 0 and splitString[0] == 'A1':\n",
    "            y.append(float(splitString[1]))"
   ]
  },
  {
   "cell_type": "code",
   "execution_count": 139,
   "metadata": {},
   "outputs": [
    {
     "data": {
      "text/plain": [
       "74"
      ]
     },
     "execution_count": 139,
     "metadata": {},
     "output_type": "execute_result"
    }
   ],
   "source": [
    "filename = \"ALKAN.STR\"\n",
    "len(y)"
   ]
  },
  {
   "cell_type": "code",
   "execution_count": 289,
   "metadata": {},
   "outputs": [],
   "source": [
    "chainLen = 2"
   ]
  },
  {
   "cell_type": "code",
   "execution_count": 290,
   "metadata": {},
   "outputs": [],
   "source": [
    "names, numMolec = getAllKChainsNameInFile(filename, chainLen)"
   ]
  },
  {
   "cell_type": "code",
   "execution_count": 291,
   "metadata": {
    "scrolled": true
   },
   "outputs": [],
   "source": [
    "Matr = getMatrix(filename, chainLen, names, numMolec)"
   ]
  },
  {
   "cell_type": "code",
   "execution_count": 292,
   "metadata": {},
   "outputs": [],
   "source": [
    "# for i in range(Matr.shape[0]):\n",
    "#     for j in range(Matr.shape[1]):\n",
    "#         print(Matr[i,j], end=\" \")\n",
    "#     print()\n",
    "#     print()"
   ]
  },
  {
   "cell_type": "code",
   "execution_count": 303,
   "metadata": {},
   "outputs": [],
   "source": [
    "\n",
    "\n",
    "X_train, X_test, y_train, y_test = train_test_split(\n",
    "    Matr, y, test_size=0.4)"
   ]
  },
  {
   "cell_type": "code",
   "execution_count": 304,
   "metadata": {},
   "outputs": [],
   "source": [
    "\n",
    "clf = LinearRegression(normalize=True)"
   ]
  },
  {
   "cell_type": "code",
   "execution_count": 305,
   "metadata": {},
   "outputs": [
    {
     "data": {
      "text/plain": [
       "LinearRegression(copy_X=True, fit_intercept=True, n_jobs=None, normalize=True)"
      ]
     },
     "execution_count": 305,
     "metadata": {},
     "output_type": "execute_result"
    }
   ],
   "source": [
    "clf.fit(X_train, y_train)\n"
   ]
  },
  {
   "cell_type": "code",
   "execution_count": 306,
   "metadata": {},
   "outputs": [
    {
     "data": {
      "text/plain": [
       "0.9544908240189351"
      ]
     },
     "execution_count": 306,
     "metadata": {},
     "output_type": "execute_result"
    }
   ],
   "source": [
    "clf.score(X_test, y_test)"
   ]
  },
  {
   "cell_type": "code",
   "execution_count": 307,
   "metadata": {},
   "outputs": [
    {
     "data": {
      "text/plain": [
       "[(147.69607569111787, 140.6),\n",
       " (-33.27395434523768, -11.73),\n",
       " (132.4870448842517, 131.34),\n",
       " (93.73308111154971, 91.85),\n",
       " (90.57649581431254, 86.064),\n",
       " (50.51408613262899, 49.741),\n",
       " (123.1443340287684, 125.665),\n",
       " (135.02957974059888, 132.69),\n",
       " (148.19813838840633, 143.0),\n",
       " (109.33020269773873, 113.467),\n",
       " (143.99390828661996, 142.48),\n",
       " (87.76597406513658, 89.784),\n",
       " (141.72896864470476, 142.0),\n",
       " (94.23514380883815, 98.427),\n",
       " (134.0073464526227, 133.8),\n",
       " (91.07855851160097, 93.475),\n",
       " (66.33834617182514, 68.74),\n",
       " (128.56964638647935, 126.54),\n",
       " (122.29426003919598, 111.969),\n",
       " (142.9706944466359, 137.68),\n",
       " (-42.07000000000001, -88.63),\n",
       " (150.16453608737544, 137.3),\n",
       " (42.276954345237485, 27.852),\n",
       " (150.5125473796594, 144.18),\n",
       " (122.64227133147996, 118.534),\n",
       " (77.90882107235356, 80.882),\n",
       " (122.79632273648441, 118.925),\n",
       " (52.13410733802051, 36.074),\n",
       " (115.60248109574489, 115.607),\n",
       " (53.32460788180494, 57.988)]"
      ]
     },
     "execution_count": 307,
     "metadata": {},
     "output_type": "execute_result"
    }
   ],
   "source": [
    "list(zip(clf.predict(X_test), y_test))"
   ]
  },
  {
   "cell_type": "code",
   "execution_count": 308,
   "metadata": {},
   "outputs": [],
   "source": [
    "from sklearn.neighbors import KNeighborsRegressor"
   ]
  },
  {
   "cell_type": "code",
   "execution_count": 327,
   "metadata": {},
   "outputs": [],
   "source": [
    "clf = KNeighborsRegressor(n_neighbors=3, weights=\"distance\")"
   ]
  },
  {
   "cell_type": "code",
   "execution_count": 328,
   "metadata": {},
   "outputs": [
    {
     "data": {
      "text/plain": [
       "KNeighborsRegressor(algorithm='auto', leaf_size=30, metric='minkowski',\n",
       "          metric_params=None, n_jobs=None, n_neighbors=3, p=2,\n",
       "          weights='distance')"
      ]
     },
     "execution_count": 328,
     "metadata": {},
     "output_type": "execute_result"
    }
   ],
   "source": [
    "clf.fit(X_train,y_train)"
   ]
  },
  {
   "cell_type": "code",
   "execution_count": 329,
   "metadata": {},
   "outputs": [
    {
     "data": {
      "text/plain": [
       "0.8572906456378928"
      ]
     },
     "execution_count": 329,
     "metadata": {},
     "output_type": "execute_result"
    }
   ],
   "source": [
    "clf.score(X_test, y_test)"
   ]
  },
  {
   "cell_type": "code",
   "execution_count": null,
   "metadata": {},
   "outputs": [],
   "source": []
  }
 ],
 "metadata": {
  "kernelspec": {
   "display_name": "Python 3",
   "language": "python",
   "name": "python3"
  },
  "language_info": {
   "codemirror_mode": {
    "name": "ipython",
    "version": 3
   },
   "file_extension": ".py",
   "mimetype": "text/x-python",
   "name": "python",
   "nbconvert_exporter": "python",
   "pygments_lexer": "ipython3",
   "version": "3.7.3"
  }
 },
 "nbformat": 4,
 "nbformat_minor": 2
}

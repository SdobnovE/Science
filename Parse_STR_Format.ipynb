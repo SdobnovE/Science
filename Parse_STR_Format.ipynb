{
 "cells": [
  {
   "cell_type": "code",
   "execution_count": 448,
   "metadata": {},
   "outputs": [],
   "source": [
    "import numpy as np\n",
    "import queue\n",
    "from functools import reduce\n",
    "from sklearn.model_selection import train_test_split\n",
    "from sklearn.linear_model import LinearRegression"
   ]
  },
  {
   "cell_type": "code",
   "execution_count": 449,
   "metadata": {},
   "outputs": [],
   "source": [
    "def make_chains(mat, names, k, key):\n",
    "    '''Передаём key, чтобы словарь поиска содеражал такие ключи'''\n",
    "    def dfs(que, mat, v, k_now, k_max, chainsDict, names):\n",
    "        if k_now == k_max:\n",
    "            name_in_num = list(que)\n",
    "            name_in_num.sort()\n",
    "            name_in_num = list(map(lambda i: names[i], name_in_num))\n",
    "            kk = reduce(lambda i, j: i + j, name_in_num)\n",
    "            chainsDict.setdefault(kk, 0)\n",
    "            chainsDict[kk] += 1\n",
    "            return\n",
    "        \n",
    "        for i in range(0, mat.shape[0]):\n",
    "            if mat[v, i] == 1 and not i in que:\n",
    "                que.append(i)\n",
    "                dfs(que, mat, i, k_now + 1, k_max, chainsDict, names)\n",
    "                del(que[k_now])\n",
    "    \n",
    "    \n",
    "            \n",
    "    chainsDict = dict.fromkeys(key, 0)\n",
    "    \n",
    "    for i in range(mat.shape[0]):#Запускаем обход в глубину k из каждой вершины\n",
    "        que = []\n",
    "        que.append(i)\n",
    "        \n",
    "        dfs(que, mat, i, 1, k, chainsDict, names)\n",
    "        del(que[0])\n",
    "        \n",
    "        \n",
    "    for i in chainsDict.keys(): #Каждую цепочку посчитали два раза\n",
    "        chainsDict[i] //= 2\n",
    "    return chainsDict\n",
    "        "
   ]
  },
  {
   "cell_type": "code",
   "execution_count": 525,
   "metadata": {},
   "outputs": [],
   "source": [
    "def getAllKChainsNameInFile(filename, k): #k-размер цепочек\n",
    "    all_chains_names = []\n",
    "    ctr = 0\n",
    "    with  open(filename, \"r\") as f:\n",
    "        \n",
    "        \n",
    "        for i in f:\n",
    "            ctr += 1\n",
    "            mol_atoms = []\n",
    "            mol_name = i.split()[1]\n",
    "            num_elems = int(i.split()[0])\n",
    "            \n",
    "\n",
    "            matrix = np.zeros((num_elems, num_elems))\n",
    "            for i in range(num_elems):\n",
    "                \n",
    "                line = next(f) #Берём i линию в молекуле\n",
    "                \n",
    "                mol_atoms.append(line.split()[0]) #По первому индексу хранятся названия, которые пихаем в лист\n",
    "\n",
    "                it = 3 #С третьего элемента в строке начинаются связи\n",
    "                while line.split()[it] != \"00\":\n",
    "                    matrix[i, int(line.split()[it][:-1]) - 1] = 1 #int(line.split()[it][-1]) Если захотим тип связи\n",
    "                    matrix[int(line.split()[it][:-1]) - 1, i] = 1\n",
    "                    it += 1\n",
    "            res = make_chains(matrix, mol_atoms, k, [])\n",
    "            all_chains_names += res.keys()\n",
    "        \n",
    "    returnList = list(np.unique(all_chains_names))\n",
    "    returnList.sort()\n",
    "    return list(np.unique(all_chains_names)), ctr"
   ]
  },
  {
   "cell_type": "code",
   "execution_count": 526,
   "metadata": {},
   "outputs": [],
   "source": [
    "def getMatrix(filename, k, keys, high):\n",
    "    res_matr = np.zeros((high, len(keys)))\n",
    "    dic = dict.fromkeys(keys, 0)\n",
    "    \n",
    "    cnt = 0\n",
    "    with open(filename, \"r\") as f:\n",
    "        for i in f:\n",
    "            \n",
    "            mol_atoms = []\n",
    "            num_elems = int(i.split()[0])\n",
    "            matrix = np.zeros((num_elems, num_elems))\n",
    "            for i in range(num_elems):\n",
    "                line = next(f) #Берём i линию в молекуле\n",
    "                mol_atoms.append(line.split()[0]) #По первому индексу хранятся названия, которые пихаем в лист\n",
    "\n",
    "                it = 3 #С третьего элемента в строке начинаются связи\n",
    "                while line.split()[it] != \"00\":\n",
    "                    matrix[i, int(line.split()[it][:-1]) - 1] = 1 #int(line.split()[it][-1]) Если захотим тип связи\n",
    "                    matrix[int(line.split()[it][:-1]) - 1, i] = 1\n",
    "                    it += 1\n",
    "            res = make_chains(matrix, mol_atoms, k, dic.keys())\n",
    "            res_matr[i,:] = list(res.values())\n",
    "            cnt += 1\n",
    "    return res_matr"
   ]
  },
  {
   "cell_type": "code",
   "execution_count": 527,
   "metadata": {},
   "outputs": [],
   "source": [
    "y = []\n",
    "file_y = \"ALKAN.SET\""
   ]
  },
  {
   "cell_type": "code",
   "execution_count": 528,
   "metadata": {},
   "outputs": [],
   "source": [
    "with open(file_y, \"r\") as f:\n",
    "    for i in f:\n",
    "        splitString = i.split()\n",
    "        if len(splitString) > 0 and splitString[0] == 'A1':\n",
    "            y.append(float(splitString[1]))"
   ]
  },
  {
   "cell_type": "code",
   "execution_count": 529,
   "metadata": {},
   "outputs": [
    {
     "data": {
      "text/plain": [
       "74"
      ]
     },
     "execution_count": 529,
     "metadata": {},
     "output_type": "execute_result"
    }
   ],
   "source": [
    "filename = \"ALKAN.STR\"\n",
    "len(y)"
   ]
  },
  {
   "cell_type": "code",
   "execution_count": 530,
   "metadata": {},
   "outputs": [],
   "source": [
    "names, numMolec = getAllKChainsNameInFile(filename, 3)"
   ]
  },
  {
   "cell_type": "code",
   "execution_count": 535,
   "metadata": {},
   "outputs": [],
   "source": [
    "chainLen = 3"
   ]
  },
  {
   "cell_type": "code",
   "execution_count": 536,
   "metadata": {},
   "outputs": [],
   "source": [
    "names, numMolec = getAllKChainsNameInFile(filename, chainLen)"
   ]
  },
  {
   "cell_type": "code",
   "execution_count": 537,
   "metadata": {
    "scrolled": true
   },
   "outputs": [],
   "source": [
    "Matr = getMatrix(filename, chainLen, names, numMolec)"
   ]
  },
  {
   "cell_type": "code",
   "execution_count": 538,
   "metadata": {},
   "outputs": [
    {
     "data": {
      "text/plain": [
       "array([[0., 0., 0., ..., 0., 0., 0.],\n",
       "       [0., 0., 0., ..., 0., 0., 0.],\n",
       "       [1., 0., 0., ..., 0., 0., 0.],\n",
       "       ...,\n",
       "       [0., 0., 0., ..., 0., 0., 0.],\n",
       "       [0., 0., 0., ..., 0., 0., 0.],\n",
       "       [0., 0., 0., ..., 0., 0., 0.]])"
      ]
     },
     "execution_count": 538,
     "metadata": {},
     "output_type": "execute_result"
    }
   ],
   "source": [
    "Matr"
   ]
  },
  {
   "cell_type": "code",
   "execution_count": null,
   "metadata": {},
   "outputs": [],
   "source": []
  },
  {
   "cell_type": "code",
   "execution_count": null,
   "metadata": {},
   "outputs": [],
   "source": []
  },
  {
   "cell_type": "code",
   "execution_count": 539,
   "metadata": {},
   "outputs": [],
   "source": [
    "\n",
    "\n",
    "X_train, X_test, y_train, y_test = train_test_split(\n",
    "    Matr, y, test_size=0.4)"
   ]
  },
  {
   "cell_type": "code",
   "execution_count": 540,
   "metadata": {},
   "outputs": [],
   "source": [
    "\n",
    "clf = LinearRegression()"
   ]
  },
  {
   "cell_type": "code",
   "execution_count": 541,
   "metadata": {},
   "outputs": [
    {
     "data": {
      "text/plain": [
       "LinearRegression(copy_X=True, fit_intercept=True, n_jobs=None,\n",
       "         normalize=False)"
      ]
     },
     "execution_count": 541,
     "metadata": {},
     "output_type": "execute_result"
    }
   ],
   "source": [
    "clf.fit(X_train, y_train)\n"
   ]
  },
  {
   "cell_type": "code",
   "execution_count": 542,
   "metadata": {},
   "outputs": [
    {
     "data": {
      "text/plain": [
       "-5.822342307769397e+26"
      ]
     },
     "execution_count": 542,
     "metadata": {},
     "output_type": "execute_result"
    }
   ],
   "source": [
    "clf.score(X_test, y_test)"
   ]
  },
  {
   "cell_type": "code",
   "execution_count": 543,
   "metadata": {},
   "outputs": [
    {
     "data": {
      "text/plain": [
       "[(119.58752272727271, 138.0),\n",
       " (119.58752272727271, 109.103),\n",
       " (119.58752272727271, 63.282),\n",
       " (119.58752272727271, 98.427),\n",
       " (119.58752272727271, 140.6),\n",
       " (119.58752272727271, 117.647),\n",
       " (119.58752272727271, 49.741),\n",
       " (119.58752272727271, 133.83),\n",
       " (5825842100164220.0, 60.271),\n",
       " (2548600923749083.5, 27.852),\n",
       " (119.58752272727271, 150.798),\n",
       " (119.58752272727271, 143.0),\n",
       " (119.58752272727271, -88.63),\n",
       " (119.58752272727271, 137.68),\n",
       " (119.58752272727271, 136.73),\n",
       " (119.58752272727271, 106.47),\n",
       " (119.58752272727271, 57.988),\n",
       " (119.58752272727271, 144.18),\n",
       " (119.58752272727271, 117.725),\n",
       " (119.58752272727271, 113.467),\n",
       " (119.58752272727271, 79.197),\n",
       " (119.58752272727271, 118.259),\n",
       " (119.58752272727271, 106.84),\n",
       " (119.58752272727271, 118.534),\n",
       " (119.58752272727271, 133.5),\n",
       " (119.58752272727271, 115.65),\n",
       " (119.58752272727271, 140.274),\n",
       " (6.962522727272713, 68.74),\n",
       " (119.58752272727271, 142.0),\n",
       " (119.58752272727271, 80.882)]"
      ]
     },
     "execution_count": 543,
     "metadata": {},
     "output_type": "execute_result"
    }
   ],
   "source": [
    "list(zip(clf.predict(X_test), y_test))"
   ]
  },
  {
   "cell_type": "code",
   "execution_count": 544,
   "metadata": {},
   "outputs": [],
   "source": [
    "with open(\"res.txt\", \"w\") as f:\n",
    "    print(Matr, file=f)"
   ]
  },
  {
   "cell_type": "code",
   "execution_count": 545,
   "metadata": {},
   "outputs": [
    {
     "data": {
      "text/plain": [
       "array([[0., 0., 0., ..., 0., 0., 0.],\n",
       "       [0., 0., 0., ..., 0., 0., 0.],\n",
       "       [1., 0., 0., ..., 0., 0., 0.],\n",
       "       ...,\n",
       "       [0., 0., 0., ..., 0., 0., 0.],\n",
       "       [0., 0., 0., ..., 0., 0., 0.],\n",
       "       [0., 0., 0., ..., 0., 0., 0.]])"
      ]
     },
     "execution_count": 545,
     "metadata": {},
     "output_type": "execute_result"
    }
   ],
   "source": [
    "Matr"
   ]
  },
  {
   "cell_type": "code",
   "execution_count": null,
   "metadata": {},
   "outputs": [],
   "source": []
  }
 ],
 "metadata": {
  "kernelspec": {
   "display_name": "Python 3",
   "language": "python",
   "name": "python3"
  },
  "language_info": {
   "codemirror_mode": {
    "name": "ipython",
    "version": 3
   },
   "file_extension": ".py",
   "mimetype": "text/x-python",
   "name": "python",
   "nbconvert_exporter": "python",
   "pygments_lexer": "ipython3",
   "version": "3.7.3"
  }
 },
 "nbformat": 4,
 "nbformat_minor": 2
}
